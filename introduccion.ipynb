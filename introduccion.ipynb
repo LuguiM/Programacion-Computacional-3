{
  "nbformat": 4,
  "nbformat_minor": 0,
  "metadata": {
    "colab": {
      "name": "introduccion.ipynb",
      "provenance": [],
      "collapsed_sections": [],
      "authorship_tag": "ABX9TyPhwjMCp3Wevzd09WdKCD6R",
      "include_colab_link": true
    },
    "kernelspec": {
      "name": "python3",
      "display_name": "Python 3"
    },
    "language_info": {
      "name": "python"
    }
  },
  "cells": [
    {
      "cell_type": "markdown",
      "metadata": {
        "id": "view-in-github",
        "colab_type": "text"
      },
      "source": [
        "<a href=\"https://colab.research.google.com/github/LuguiM/Programacion-Computacional-3/blob/main/introduccion.ipynb\" target=\"_parent\"><img src=\"https://colab.research.google.com/assets/colab-badge.svg\" alt=\"Open In Colab\"/></a>"
      ]
    },
    {
      "cell_type": "code",
      "execution_count": null,
      "metadata": {
        "colab": {
          "base_uri": "https://localhost:8080/"
        },
        "id": "gut9_FwGuXZv",
        "outputId": "a95bc36b-7465-40b0-d68e-113c6a940580"
      },
      "outputs": [
        {
          "output_type": "stream",
          "name": "stdout",
          "text": [
            "Hola Mundo, bienvenidos a programacion computacional III, Jose Luis \n"
          ]
        }
      ],
      "source": [
        "print(\"Hola Mundo, bienvenidos a programacion computacional III, Jose Luis \")"
      ]
    },
    {
      "cell_type": "code",
      "source": [
        "nombre = \"Luis Muñoz\"\n",
        "print(\"Hola\",nombre)\n",
        "\n",
        "nombre = 19\n",
        "print(\"Tu edad es\", nombre)"
      ],
      "metadata": {
        "colab": {
          "base_uri": "https://localhost:8080/"
        },
        "id": "ZYHuvgZewygp",
        "outputId": "eebe7476-61c9-4402-e794-ecc01bf35c12"
      },
      "execution_count": null,
      "outputs": [
        {
          "output_type": "stream",
          "name": "stdout",
          "text": [
            "Hola Luis Muñoz\n",
            "Tu edad es 19\n"
          ]
        }
      ]
    },
    {
      "cell_type": "code",
      "source": [
        "numeros = [1,2,3,4,5,6]"
      ],
      "metadata": {
        "id": "dczUi09Mt-jf"
      },
      "execution_count": null,
      "outputs": []
    },
    {
      "cell_type": "code",
      "source": [
        "#conversosr de celsius a f\n",
        "def conversorf(c):\n",
        "  return c*9/5+32"
      ],
      "metadata": {
        "id": "4DEaGwc7upQ2"
      },
      "execution_count": null,
      "outputs": []
    },
    {
      "cell_type": "code",
      "source": [
        "c = float(input(\"Grados C: \"))\n",
        "print(\"G. c a F\",conversorf(c))"
      ],
      "metadata": {
        "colab": {
          "base_uri": "https://localhost:8080/"
        },
        "id": "ZtdPyODHvsJ0",
        "outputId": "52034462-81e0-4332-c5b1-bc325e015a6f"
      },
      "execution_count": null,
      "outputs": [
        {
          "output_type": "stream",
          "name": "stdout",
          "text": [
            "Grados C: 27\n",
            "G. c a F 80.6\n"
          ]
        }
      ]
    },
    {
      "cell_type": "code",
      "source": [
        "celcius = lambda c: c*9/5+32\n",
        "c = int(input(\"Grados celcius a convertir\"))\n",
        "print(\"G c a F\", celcius(c))"
      ],
      "metadata": {
        "colab": {
          "base_uri": "https://localhost:8080/"
        },
        "id": "g3lP7Pwkx32I",
        "outputId": "642277eb-3a66-44bd-83d7-95b060b2541c"
      },
      "execution_count": null,
      "outputs": [
        {
          "output_type": "stream",
          "name": "stdout",
          "text": [
            "Grados celcius a convertir27\n",
            "G c a F 80.6\n"
          ]
        }
      ]
    },
    {
      "cell_type": "code",
      "source": [
        "gradosc = [27,30,35,40,45]\n",
        "gradosf = lambda c: c*1.8+32\n",
        "f = list(map(gradosf,gradosc))\n",
        "print(f) "
      ],
      "metadata": {
        "colab": {
          "base_uri": "https://localhost:8080/"
        },
        "id": "DUp_79Jo0gDb",
        "outputId": "174f1efc-a029-4c7a-f5bf-4e8db5254456"
      },
      "execution_count": null,
      "outputs": [
        {
          "output_type": "stream",
          "name": "stdout",
          "text": [
            "[80.6, 86.0, 95.0, 104.0, 113.0]\n"
          ]
        }
      ]
    },
    {
      "cell_type": "code",
      "source": [
        "gradosf = [80.6,86.0,95.0,104.0,113.0]\n",
        "gradosc = lambda f: (f - 32) * 5/9\n",
        "c = list(map(gradosc,gradosf))\n",
        "print(c)"
      ],
      "metadata": {
        "colab": {
          "base_uri": "https://localhost:8080/"
        },
        "id": "XqjjSUt84Jzc",
        "outputId": "ef19bdc0-3392-4ab5-afab-9103d0d2f567"
      },
      "execution_count": null,
      "outputs": [
        {
          "output_type": "stream",
          "name": "stdout",
          "text": [
            "[26.999999999999996, 30.0, 35.0, 40.0, 45.0]\n"
          ]
        }
      ]
    },
    {
      "cell_type": "code",
      "source": [
        "#Tarea: Hacer un algoritmo en python que convierta de celcius a kelvin y viceversa"
      ],
      "metadata": {
        "id": "D_dd5Y6X56Jh"
      },
      "execution_count": null,
      "outputs": []
    },
    {
      "cell_type": "code",
      "source": [
        "gradosCelcius = lambda gC: gC+273.15\n",
        "gC = float(input(\"Grados celcius a convertir \"))\n",
        "print(\"Celcius a Kelvin: \", gradosCelcius(gC))"
      ],
      "metadata": {
        "colab": {
          "base_uri": "https://localhost:8080/"
        },
        "id": "_efLrT52whcw",
        "outputId": "fd8f9314-c45e-4945-9f61-79373643ee28"
      },
      "execution_count": null,
      "outputs": [
        {
          "output_type": "stream",
          "name": "stdout",
          "text": [
            "Grados celcius a convertir 27\n",
            "Celcius a Kelvin:  300.15\n"
          ]
        }
      ]
    },
    {
      "cell_type": "code",
      "source": [
        "gradosKelvin = lambda gK: gK-273.15\n",
        "gK = float(input(\"Grados Kelvin a convertir \"))\n",
        "print(\"Kelvin a Celcius: \", gradosKelvin(gK))"
      ],
      "metadata": {
        "colab": {
          "base_uri": "https://localhost:8080/"
        },
        "id": "Igx0H-OcyD51",
        "outputId": "ed036a75-3dbf-459d-f280-f6779d2ba0e3"
      },
      "execution_count": null,
      "outputs": [
        {
          "output_type": "stream",
          "name": "stdout",
          "text": [
            "Grados Kelvin a convertir 300.15\n",
            "Kelvin a Celcius:  27.0\n"
          ]
        }
      ]
    },
    {
      "cell_type": "code",
      "source": [
        "#Tarea Finalizada"
      ],
      "metadata": {
        "id": "WtHrO2iByzTi"
      },
      "execution_count": null,
      "outputs": []
    },
    {
      "cell_type": "code",
      "source": [
        "numeros = [5,7,9,6,8,7,3]"
      ],
      "metadata": {
        "id": "4uA5fEQLO-ap"
      },
      "execution_count": null,
      "outputs": []
    },
    {
      "cell_type": "code",
      "source": [
        "print(\"Lista original \", \" Buscando : \", numeros[numeros.index(9)])"
      ],
      "metadata": {
        "colab": {
          "base_uri": "https://localhost:8080/"
        },
        "id": "f1p8N8tYPctH",
        "outputId": "7661a6ac-22f1-4c52-d56b-e6e92ca9037f"
      },
      "execution_count": null,
      "outputs": [
        {
          "output_type": "stream",
          "name": "stdout",
          "text": [
            "Lista original   Buscando :  1\n"
          ]
        }
      ]
    },
    {
      "cell_type": "code",
      "source": [
        "edades = (2,5,12,18,65,100) #Una tupla es inmtable y no se puede cambiar el valor\n",
        "print(\"Las Edades: \", edades)"
      ],
      "metadata": {
        "colab": {
          "base_uri": "https://localhost:8080/"
        },
        "id": "LbjF-GQAQfCW",
        "outputId": "9aa49956-bf85-4bcc-edeb-69a121d660cd"
      },
      "execution_count": null,
      "outputs": [
        {
          "output_type": "stream",
          "name": "stdout",
          "text": [
            "Las Edades:  (2, 5, 12, 18, 65, 100)\n"
          ]
        }
      ]
    },
    {
      "cell_type": "code",
      "source": [
        "print(\"edades: \", edades, \"filtarar solo mayores de edadad \", tuple(filter(lambda num: num>=18, edades)))"
      ],
      "metadata": {
        "colab": {
          "base_uri": "https://localhost:8080/"
        },
        "id": "F3iRCqZTTyqC",
        "outputId": "1f5516a9-8072-4311-a280-b6e464076595"
      },
      "execution_count": null,
      "outputs": [
        {
          "output_type": "stream",
          "name": "stdout",
          "text": [
            "edades:  (2, 5, 12, 18, 65, 100) filtarar solo mayores de edadad  (18, 65, 100)\n"
          ]
        }
      ]
    },
    {
      "cell_type": "code",
      "source": [
        "buscando = int(input(\"valor: \"))\n",
        "print(\"edades: \", edades, \"buscando el numero \",buscando, \"esta en la posicion: \", edades.index(buscando))"
      ],
      "metadata": {
        "colab": {
          "base_uri": "https://localhost:8080/"
        },
        "id": "JdtdyekfURam",
        "outputId": "f6601be9-922c-4935-b37e-6cd658988f7a"
      },
      "execution_count": null,
      "outputs": [
        {
          "output_type": "stream",
          "name": "stdout",
          "text": [
            "valor: 5\n",
            "edades:  (2, 5, 12, 18, 65, 100) buscando el numero  5 esta en la posicion:  1\n"
          ]
        }
      ]
    },
    {
      "cell_type": "code",
      "source": [
        "notas = [5,4,10,7.8,9,10]\n",
        "print(\"Mis notas: \", notas, \"notas sobresalientes: \", list(filter(lambda n:n>=9, notas)))"
      ],
      "metadata": {
        "colab": {
          "base_uri": "https://localhost:8080/"
        },
        "id": "ku9T4F_tWWOv",
        "outputId": "02dacf49-3a65-464f-941c-8ba3acffcf11"
      },
      "execution_count": null,
      "outputs": [
        {
          "output_type": "stream",
          "name": "stdout",
          "text": [
            "Mis notas:  [5, 4, 10, 7.8, 9, 10] notas sobresalientes:  [10, 9, 10]\n"
          ]
        }
      ]
    },
    {
      "cell_type": "code",
      "source": [
        "notasCiclo =[\n",
        "    [5,6,6],\n",
        "    [8,7,10],\n",
        "    [10,10,10]\n",
        "]\n",
        "print(\"Mis notas, \", notasCiclo, \"C1: \",notasCiclo[0], \"c2: \", notasCiclo[1], \"c3: \", notasCiclo[2], \"PC1: \", notasCiclo[0][2])"
      ],
      "metadata": {
        "colab": {
          "base_uri": "https://localhost:8080/"
        },
        "id": "1wedv1EGXBto",
        "outputId": "83eb7b12-d095-438f-83de-0b125fe80631"
      },
      "execution_count": null,
      "outputs": [
        {
          "output_type": "stream",
          "name": "stdout",
          "text": [
            "Mis notas,  [[5, 6, 6], [8, 7, 10], [10, 10, 10]] C1:  [5, 6, 6] c2:  [8, 7, 10] c3:  [10, 10, 10] PC1:  6\n"
          ]
        }
      ]
    },
    {
      "cell_type": "code",
      "source": [
        "materias = [\n",
        "    [\n",
        "      [5,6,6],\n",
        "     [5,7,8],\n",
        "     [6,7,6]\n",
        "    ],\n",
        "    [\n",
        "        [10,9,10],\n",
        "     [10,10,8],\n",
        "     [10,10,10]\n",
        "    ],\n",
        "    [\n",
        "    [8,7,8],\n",
        "     [7,9,9],\n",
        "     [8,7,9]\n",
        "    ]\n",
        "]\n",
        "print(\"Progra C1 - P: \", materias[0][0][2], \"Redes C2, lab2: \", materias[2][1][1])"
      ],
      "metadata": {
        "colab": {
          "base_uri": "https://localhost:8080/"
        },
        "id": "taikNQzpXu87",
        "outputId": "de543245-b7eb-4432-bb67-04e7d12cf692"
      },
      "execution_count": null,
      "outputs": [
        {
          "output_type": "stream",
          "name": "stdout",
          "text": [
            "Progra C1 - P:  6 Redes C2, lab2:  9\n"
          ]
        }
      ]
    },
    {
      "cell_type": "code",
      "source": [
        "misMateris = {}\n",
        "misNotas = {\n",
        "    \"Progra 1\":{\n",
        "        \"C1\":{\n",
        "            \"lab 1\":6,\n",
        "             \"lab2\":6,\n",
        "             \"parcial\": [10,8]\n",
        "        },\n",
        "        \"C2\":{\n",
        "            \"lab 1\":6,\n",
        "             \"lab2\":6,\n",
        "             \"parcial\": [10,8]\n",
        "        },\n",
        "        \"C3\":{\n",
        "            \"lab 1\":6,\n",
        "             \"lab2\":6,\n",
        "             \"parcial\": [10,8]\n",
        "        }\n",
        "\n",
        "    },\n",
        "     \"Base\":{\n",
        "        \"C1\":{\n",
        "            \"lab 1\":6,\n",
        "             \"lab2\":6,\n",
        "             \"parcial\": [10,8]\n",
        "        },\n",
        "        \"C2\":{\n",
        "            \"lab 1\":6,\n",
        "             \"lab2\":6,\n",
        "             \"parcial\": [10,8]\n",
        "        },\n",
        "        \"C3\":{\n",
        "            \"lab 1\":6,\n",
        "             \"lab2\":6,\n",
        "             \"parcial\": [10,8]\n",
        "        }\n",
        "\n",
        "    }\n",
        "}\n",
        "print(misNotas[\"Progra 1\"][\"C1\"][\"paracial\"])"
      ],
      "metadata": {
        "colab": {
          "base_uri": "https://localhost:8080/"
        },
        "id": "8pEWGa6udVpX",
        "outputId": "d1070ad6-6e5d-40ef-f8f7-626174fa9cbd"
      },
      "execution_count": null,
      "outputs": [
        {
          "output_type": "stream",
          "name": "stdout",
          "text": [
            "{'Progra 1': {'C1': {'lab 1': 6, 'lab2': 6, 'parcial': [10, 8]}}}\n"
          ]
        }
      ]
    },
    {
      "cell_type": "markdown",
      "source": [
        "Conversor de Monedas"
      ],
      "metadata": {
        "id": "aWONIExIz--P"
      }
    },
    {
      "cell_type": "code",
      "source": [
        "\n",
        "quetzal = 7.75\n",
        "lempira = 24.66\n",
        "pesoMex = 19.88\n",
        "pesoCol = 4249.81\n",
        "cordoba = 35.99\n",
        "\n",
        "conversiones = [\"1.quetzal\", \"2.lempira\", \"3.pesoMexicano\", \"4.PesoColombiano\", \"5.Cordobas\"]\n",
        "\n",
        "\n",
        "def converson():   \n",
        "  print(\"Escoja entre las opciones\")\n",
        "  print(\"Tipo de Conversiones\", conversiones)\n",
        "  pregunta = int(input(\"Seleccione el numero de la moneda a convertir \"))\n",
        "\n",
        "  if pregunta == 1:\n",
        "    quetzalC = float(input(\"Ingrese la Cantidad a converir: \"))\n",
        "    converQ = quetzal * quetzalC\n",
        "    print(\"La conversion de quetzales a dolares es: \", converQ)\n",
        "\n",
        "  elif pregunta == 2:\n",
        "    lempiraC = float(input(\"Ingrese la cantidad a convertir(L): \" ))\n",
        "    converL = lempira * lempiraC\n",
        "    print(\"La conversion de lempiras a dolares es: \", converL)\n",
        "\n",
        "  elif pregunta == 3:\n",
        "    pesoMxC = float(input(\"Ingrese la cantidad a convertir(M): \" ))\n",
        "    converPM = pesoMex * pesoMxC\n",
        "    print(\"La conversion de lempiras a dolares es: \", converPM)\n",
        "\n",
        "  elif pregunta == 4:\n",
        "    pesoC = float(input(\"Ingrese la cantidad a convertir(Col): \" ))\n",
        "    converPcol = pesoCol * pesoC\n",
        "    print(\"La conversion de lempiras a dolares es: \", converPcol)\n",
        "\n",
        "  elif pregunta == 5:\n",
        "    cordovaC = float(input(\"Ingrese la cantidad a convertir(c): \" ))\n",
        "    converC = cordoba * cordovaC\n",
        "    print(\"La conversion de lempiras a dolares es: \", converC)\n",
        "\n",
        " \n",
        "  else:\n",
        "      print(\"Escoja un numero de la seleccion\")\n",
        "\n",
        "  return\n",
        "\n",
        "converson()\n",
        "opcion = 1\n",
        "\n",
        "while opcion == int(input(\"Dijite 1 para hacer otra conversion y 2 para salir\")):\n",
        "  converson()\n",
        "  \n",
        "else:\n",
        "    print(\"adios\")"
      ],
      "metadata": {
        "colab": {
          "base_uri": "https://localhost:8080/"
        },
        "id": "7z1H2lduz99q",
        "outputId": "fe819aa1-97d3-4233-86bc-97891a6c61e6"
      },
      "execution_count": null,
      "outputs": [
        {
          "output_type": "stream",
          "name": "stdout",
          "text": [
            "Escoja entre las opciones\n",
            "Tipo de Conversiones ['1.quetzal', '2.lempira', '3.pesoMexicano', '4.PesoColombiano', '5.Cordobas']\n",
            "Seleccione el numero de la moneda a convertir 1\n",
            "Ingrese la Cantidad a converir: 1\n",
            "La conversion de quetzales a dolares es:  7.75\n",
            "Dijite 1 para hacer otra conversion y 2 para salir1\n",
            "Escoja entre las opciones\n",
            "Tipo de Conversiones ['1.quetzal', '2.lempira', '3.pesoMexicano', '4.PesoColombiano', '5.Cordobas']\n",
            "Seleccione el numero de la moneda a convertir 2\n",
            "Ingrese la cantidad a convertir(L): 2\n",
            "La conversion de lempiras a dolares es:  49.32\n",
            "Dijite 1 para hacer otra conversion y 2 para salir2\n",
            "adions\n"
          ]
        }
      ]
    },
    {
      "cell_type": "markdown",
      "source": [
        "Conversion divisa parte 2\n",
        "Dolares,quetzales, lempiras, cordobas,pesos cr, euros,colon sv, yenes, soles peruanos"
      ],
      "metadata": {
        "id": "taouMkEO3qHG"
      }
    },
    {
      "cell_type": "markdown",
      "source": [
        "CONVERSIONES"
      ],
      "metadata": {
        "id": "oAo4CuiWSQ6S"
      }
    },
    {
      "cell_type": "code",
      "source": [
        "divisas = [\"Seleccione una divisa\", \"dolares\",\"quetazles\",\"lempiras\",\"cordobas\",\"pesos cr\",\"euros\",\"colon sv\",\"yenes\",\"soles peruanos,pesos colombianos\"]\n",
        "\n",
        "valores = [0,1,7.71,24.51,35.77,664.64,0.98,8.71,134.13,3.84,4249.81]"
      ],
      "metadata": {
        "id": "J4aA8tuC4Bwt"
      },
      "execution_count": null,
      "outputs": []
    },
    {
      "cell_type": "code",
      "source": [
        "def covertir(de,a,cantidad):\n",
        "  return valores[a]/valores[de]*cantidad\n",
        "\n",
        "#puede convertir volumes unidades de medidad como el sistema de una calculadora"
      ],
      "metadata": {
        "id": "YI4cmoPY7URn"
      },
      "execution_count": null,
      "outputs": []
    },
    {
      "cell_type": "code",
      "source": [
        "print(\"***MENU***\")\n",
        "print(\"1-Dolares\")\n",
        "print(\"2-Quetzales\")\n",
        "print(\"3-Lempiras\")\n",
        "print(\"4-Cordobas\")\n",
        "print(\"5-Pesos CR\")\n",
        "print(\"6-Euros\")\n",
        "print(\"7-Colon SV\")\n",
        "print(\"8-Yenes\")\n",
        "print(\"9-Soles Peruanos\")\n",
        "print(\"10-Pesos Colombianos\")\n"
      ],
      "metadata": {
        "colab": {
          "base_uri": "https://localhost:8080/"
        },
        "id": "6K_TI2Am5CKb",
        "outputId": "0bc30451-8310-4c32-e562-2ea36ce0838f"
      },
      "execution_count": null,
      "outputs": [
        {
          "output_type": "stream",
          "name": "stdout",
          "text": [
            "***MENU***\n",
            "1-Dolares\n",
            "2-Quetzales\n",
            "3-Lempiras\n",
            "4-Cordobas\n",
            "5-Pesos CR\n",
            "6-Euros\n",
            "7-Colon SV\n",
            "8-Yenes\n",
            "9-Soles Peruanos\n"
          ]
        }
      ]
    },
    {
      "cell_type": "code",
      "source": [
        "de = int(input(\"DE:\"))\n",
        "a = int(input(\"A:\"))\n",
        "cantidad = float(input(\"Cantidad: \"))\n",
        "\n",
        "print(divisas[de], \"a \", divisas[a], \"es: \", covertir(de,a,cantidad))"
      ],
      "metadata": {
        "colab": {
          "base_uri": "https://localhost:8080/"
        },
        "id": "D1wRNJkp8k1j",
        "outputId": "bea37182-14b7-486b-a085-5ad1e38695b3"
      },
      "execution_count": null,
      "outputs": [
        {
          "output_type": "stream",
          "name": "stdout",
          "text": [
            "DE:6\n",
            "A:2\n",
            "Cantidad: 10\n",
            "euros a  quetazles es:  78.6734693877551\n"
          ]
        }
      ]
    },
    {
      "cell_type": "markdown",
      "source": [
        "Ejercicios prácticos en Python "
      ],
      "metadata": {
        "id": "xrLUoazdAAF3"
      }
    },
    {
      "cell_type": "code",
      "source": [
        "#Calcular sobre el sueldo las deducciones por ley ISSS (3%), AFP( 6.25%), ISR(Según tabla) e imprima el total deducciones y sueldo neto. (20%)\n",
        "\n",
        "sueldo = float(input(\"Ingrese su sueldo: \"))\n",
        "descuentos = [3,6.25,27]\n",
        "\n",
        "isss = (sueldo*descuentos[0])/100\n",
        "afp = (sueldo*descuentos[1])/100\n",
        "isr = (sueldo*descuentos[2])/100\n",
        "totaldeduciones = isss+afp+isr\n",
        "total = sueldo-totaldeduciones\n",
        "print(\"**DEDUCCIONES**\")\n",
        "print(\"ISSS: \",isss)\n",
        "print(\"AFP: \",afp)\n",
        "print(\"ISR: \",isr)\n",
        "print(\"**SUELDO TOTAL**\")\n",
        "print(\"Sueldo Neto: \", total)\n"
      ],
      "metadata": {
        "colab": {
          "base_uri": "https://localhost:8080/"
        },
        "id": "PckVqD4x0aKo",
        "outputId": "7b82e2a4-db1d-4c48-8aad-a5cdccb42029"
      },
      "execution_count": null,
      "outputs": [
        {
          "output_type": "stream",
          "name": "stdout",
          "text": [
            "Ingrese su sueldo: 350\n",
            "**DEDUCCIONES**\n",
            "ISSS:  10.5\n",
            "AFP:  21.875\n",
            "ISR:  94.5\n",
            "**SUELDO TOTAL**\n",
            "Sueldo Neto:  223.125\n"
          ]
        }
      ]
    },
    {
      "cell_type": "code",
      "source": [
        "#Calcular el valor a pagar según el número de metros consumidos de agua potable\n",
        "\n",
        "consumo = int(input(\"Dijite el valor de consumo del agua:  \"))\n",
        "tarfaFija = 6\n",
        "\n",
        "if consumo <= 18:\n",
        "  print(\"Su Tarifa es: $\",tarfaFija)\n",
        "elif consumo >= 19:\n",
        "  total = (consumo - 18)*0.45+tarfaFija\n",
        "  print(\"Su tarifa es: $\",total)\n",
        "elif consumo >= 29:\n",
        "  total2 = (consumo - 28)*0.65+tarfaFija\n",
        "  print(\"Su tarifa es: $\",total2)\n",
        "else:\n",
        "  print(\"Dijitos no validos\")"
      ],
      "metadata": {
        "colab": {
          "base_uri": "https://localhost:8080/"
        },
        "id": "ViON9VXvKgTX",
        "outputId": "e486b15f-6333-4cf8-ffcd-f23b388e12bb"
      },
      "execution_count": null,
      "outputs": [
        {
          "output_type": "stream",
          "name": "stdout",
          "text": [
            "Dijite el valor de consumo del agua:  6\n",
            "Su Tarifa es: $ 6\n"
          ]
        }
      ]
    },
    {
      "cell_type": "code",
      "source": [
        "#Desarrolle la tabla de meses acumulados a n meses. Si puede encontrar la formula matemática para evitar ciclos.\n",
        "\n",
        "def Acumulacion(mes):\n",
        "  n = mes\n",
        "  acumulado = n * (n+1) /2\n",
        "  resultado = acumulado\n",
        "  print(\"**MES** \",n, \"\\n**ACUMULADO** \", resultado)\n",
        "\n",
        "mes = int(input(\"Ingrese los meses a pagar: \"))\n",
        "\n",
        "Acumulacion(mes)"
      ],
      "metadata": {
        "colab": {
          "base_uri": "https://localhost:8080/"
        },
        "id": "vqg9zvZk2EdU",
        "outputId": "5dafe52d-0d91-40fd-e5a5-564393890834"
      },
      "execution_count": null,
      "outputs": [
        {
          "output_type": "stream",
          "name": "stdout",
          "text": [
            "Ingrese los meses a pagar: 10\n",
            "**MES**  10 \n",
            "**ACUMULADO**  55.0\n"
          ]
        }
      ]
    },
    {
      "cell_type": "code",
      "source": [
        "#Conversores:\n",
        "\n",
        "def covertir(conversor,de,a,cantidad):\n",
        "  return valores[conversor][a]/valores[conversor][de]*cantidad"
      ],
      "metadata": {
        "id": "PjfJtCCW2gVH"
      },
      "execution_count": null,
      "outputs": []
    },
    {
      "cell_type": "code",
      "source": [
        "etiquetas = [\n",
        "[],\n",
        "  [\"Seleccione una divisa\", \"1.dolares\",\"2.quetazles\",\"3.lempiras\",\"4.cordobas\",\"5.pesos cr\",\n",
        "    \"6.euros\",\"7.colon sv\",\"8.yenes\",\"9.soles peruanos\",\"10.pesos colombianos\"],#Divisas\n",
        "\n",
        "  [\"Seleccione una opcion\", \"1.Metros\", \"2.Milimetros\", \"3.Centiemtros\", \"4.pie\",\n",
        "    \"5.Varas\", \"6.Yardas\", \"7.Km\", \"8.Millas\",\"9.Decimentro\",\"10.Nanometro\"],#Longiudes\n",
        "\n",
        "  [\"Seleccione la opcion\", \"1.Gigabyte\", \"2.Megabyte\", \"3.Kilobyte\",\"4.Terabyte\",\"5.Petabyte\",\n",
        "    \"6.Tebibyte\",\"7.Pebibyte\",\"8.Gibibyte\",\"9.Mebibyte\",\"10.Byte\"],#Almacenamiento\n",
        "\n",
        "  [\"Seleccione la opcion\", \"1.Siglo\",\"2.Decada\",\"3.AñoNatural\",\"4.Mes\",\"5.Semana\",\n",
        "    \"6.Dia\",\"7.Hora\",\"8.Minuto\",\"9.Segundo\",\"10.Milisegundo\"],#Tiempo\n",
        "\n",
        "  [\"Seleccione la opcion\", \"1.Tonelada\",\"2.Kilogramo\",\"3.Gramo\",\"4.Centrigramo\",\"5.Miligramo\",\n",
        "    \"6.Microgramo\",\"7.Tonelada Corta\",\"8.Stone\",\"9.Libra\",\"10.Onza\"],#Masa\n",
        "\n",
        "  [\"Seleccione la opcion\", \"1.Metro Cubico\", \"2.Litro\",\"3.Mililitro\",\"4.Galon Imperial\",\"5.Cuarto Imperial\",\n",
        "    \"6.Pinta Imperial\",\"7.Taza Imperial\",\"8.Onza Liquida Imperial\",\"9.Cucharada Imperial\",\"10.Cucharadita Imperial\"],#Volumen\n",
        "\n",
        "  [\"Seleccione la opcion\", \"1.Kilimetro Cuadrado\",\"2.Metro Cuadrado\",\"3.Milla Cuadrada\",\"4.Yarda Cuadrada\",\"5.Pie Cuadrado\",\n",
        "    \"6.Pulgada Cuadrada\",\"7.Hectarea\",\"8.Acre\",\"9.Tareas\",\"10.Manzanas\"]#Area,Manzanas,Tareas\n",
        "]\n",
        "\n",
        "valores = [\n",
        "    [],\n",
        "    [0,1,7.71,24.51,35.77,664.64,0.98,8.71,134.13,3.84,4249.81],#Divisas\n",
        "    [0,1,1000,100, 3.28084,1.120,1.0936133,0.001,0.000621371,10,1000000000],#Longitudes\n",
        "    [0,1,1000, 1000000,1126,1024,9.0949e-13,1.126,1.049e+6,1.074e+9,1.126e+15],#Almacenamiento\n",
        "    [0,1,10,100,1200,5214,36500,876000,5.256e+7,3.154e+9,3.154e+12],#tiempo\n",
        "    [0,1,1000,1e+6,1e+8,1e+9,1e+12,1.102,157.5,22005,35270],#Masa\n",
        "    [0,1,1000,1e+6,220,879.9,1760,3520,35200,56310,168900],#Volumen\n",
        "    [0,1,1e+6,0.3861,1.1196e+6,1.076e+7,1.55e+9,100,247.1,1590.3307888,141.7]#Area,Manzanas,Tareas\n",
        "]"
      ],
      "metadata": {
        "id": "KGMUy8ihxLb5"
      },
      "execution_count": null,
      "outputs": []
    },
    {
      "cell_type": "code",
      "source": [
        "print(\"**MENU DE CONVERSIONES**\")\n",
        "print(\"1.Divisas\")\n",
        "print(\"2.Longitud\")\n",
        "print(\"3.Almacenamiento\")\n",
        "print(\"4.Tiempo\")\n",
        "print(\"5.Masa\")\n",
        "print(\"6.Volumen\")\n",
        "print(\"7.Area\\n\")\n",
        "\n",
        "opcion = int(input(\"Conversor: \"))\n",
        "print(\"CONVERSOR ELEGIDO: \", etiquetas[opcion])\n",
        "de = int(input(\"DE: \"))\n",
        "a = int(input(\"A: \"))\n",
        "cantidad = int(input(\"Cantidad: \"))\n",
        "print(\"Conversion de \", etiquetas[opcion][de], \" a \", etiquetas[opcion][a], \" equivale a \", covertir(opcion,de,a,cantidad))"
      ],
      "metadata": {
        "colab": {
          "base_uri": "https://localhost:8080/"
        },
        "id": "A3wxXc0C5Ul5",
        "outputId": "b443d49c-65e6-4e9b-8d5f-03755f58b2a5"
      },
      "execution_count": null,
      "outputs": [
        {
          "output_type": "stream",
          "name": "stdout",
          "text": [
            "**MENU DE CONVERSIONES**\n",
            "1.Divisas\n",
            "2.Longitud\n",
            "3.Almacenamiento\n",
            "4.Tiempo\n",
            "5.Masa\n",
            "6.Volumen\n",
            "7.Area\n",
            "\n",
            "Conversor: 4\n",
            "CONVERSOR ELEGIDO:  ['Seleccione la opcion', '1.Siglo', '2.Decada', '3.AñoNatural', '4.Mes', '5.Semana', '6.Dia', '7.Hora', '8.Minuto', '9.Segundo', '10.Milisegundo']\n",
            "DE: 1\n",
            "A: 2\n",
            "Cantidad: 2\n",
            "Conversion de  1.Siglo  a  2.Decada  equivale a  20.0\n"
          ]
        }
      ]
    },
    {
      "cell_type": "code",
      "source": [
        "#*Realizar un conversor propio, donde espesifique el valor de conversión: \n",
        "# 1 caja -> 25 unidad. Viceversa 80 unidades – 3/5 -> cajas/unidades\n",
        "# 1 saco -> 50 libras. Viceversa 130 libras – 2/30 -> sacos/libras\n",
        "# 1 fardo -> 5 unidades. Viceversa 28 unidades – 5/3 -> fardos/unidades\n",
        "\n",
        "def convertir(opcion,de, a, cantidad):\n",
        "  return valor[opcion][a] / valor[opcion][de] * cantidad\n",
        "\n",
        "conversor_p = [\n",
        "\n",
        "  [],\n",
        "\n",
        "  [\"seleccione uno a convertir\", \"1. Unidades\",\"2. cajas\"],\n",
        "\n",
        "  [\"Selecione uno a convertir\"\"3. Saco\",\"4. Libra\"],\n",
        "\n",
        "  [\"Seleccione uno a convertir\" \"5. Fardo\", \"2. Unidades\"]\n",
        "\n",
        "]\n",
        "\n",
        "valor = [\n",
        "\n",
        "  [],\n",
        "\n",
        "  [0,1,25],\n",
        "\n",
        "  [0,1,50],\n",
        "\n",
        "  [0,1,5]\n",
        "\n",
        "]\n",
        "\n",
        "print(\"Menu\")\n",
        "\n",
        "print(\"1. CAJAS/UNIUDADES\")\n",
        "\n",
        "print(\"2. SACO/LIBRAS\")\n",
        "\n",
        "print(\"3. FARDO/UNIDADES\")\n",
        "\n",
        "opcion = int(input(\"OPCION: \"))\n",
        "\n",
        "de = int(input(\"DE: \"))\n",
        "\n",
        "a = int(input(\"A:\"))\n",
        "\n",
        "cantidad = float(input(\"cantidad: \"))\n",
        "\n",
        "\n",
        "\n",
        "print(conversor_p[opcion][de], \"a\", valor[opcion][a], \"es:\", convertir(opcion,de,a,cantidad))"
      ],
      "metadata": {
        "id": "Tth8H02BL5KU"
      },
      "execution_count": null,
      "outputs": []
    },
    {
      "cell_type": "markdown",
      "source": [
        "FIN DE ACTIVIDAD"
      ],
      "metadata": {
        "id": "toT5cReHAQKk"
      }
    },
    {
      "cell_type": "markdown",
      "source": [
        "ESTRUCTURAS DE CONTROL"
      ],
      "metadata": {
        "id": "u_yyMBx4bOsW"
      }
    },
    {
      "cell_type": "code",
      "source": [
        "#IF CONDICIONAL SI\n",
        "\n",
        "edad = int(input(\"Dime tu edad: \"))\n",
        "\n",
        "if edad <=2:\n",
        "  print(\"Eres un bebe\")\n",
        "elif edad <12:\n",
        "  print(\"Edad de un niño\")\n",
        "elif edad <18:\n",
        "  print(\"Eres un adolesente\")\n",
        "elif (edad<65):\n",
        "  print(\"Eres mayor de edad, tienes responsabilidades\")\n",
        "elif edad < 80:\n",
        "  print(\"Eres un adulto mayor\")\n",
        "else:\n",
        "  print(\"Larga vida\")"
      ],
      "metadata": {
        "colab": {
          "base_uri": "https://localhost:8080/"
        },
        "id": "y5b7ukxCbYR_",
        "outputId": "34e093f6-3ac0-41eb-e39e-b1fceb10bbbe"
      },
      "execution_count": null,
      "outputs": [
        {
          "output_type": "stream",
          "name": "stdout",
          "text": [
            "Dime tu edad: 18\n",
            "Eres mayor de edad, tienes responsabilidades\n"
          ]
        }
      ]
    },
    {
      "cell_type": "code",
      "source": [
        "#Ciclo, while y for\n",
        "#obtenga la tabla de multiplicar de x numero dada por el usuario\n",
        "\n",
        "#WHILE\n",
        "ntabla = int(input(\"Tabla: \"))\n",
        "i = 1\n",
        "while i <= 10:\n",
        "  print(ntabla, \"x\", i, \"=\", ntabla*i)\n",
        "  i+=1"
      ],
      "metadata": {
        "colab": {
          "base_uri": "https://localhost:8080/"
        },
        "id": "HJFp1yRAdXpc",
        "outputId": "b0c4af07-e510-427f-ed7c-4a2c2fe97e34"
      },
      "execution_count": null,
      "outputs": [
        {
          "output_type": "stream",
          "name": "stdout",
          "text": [
            "Tabla: 4\n",
            "4 x 1 = 4\n",
            "4 x 2 = 8\n",
            "4 x 3 = 12\n",
            "4 x 4 = 16\n",
            "4 x 5 = 20\n",
            "4 x 6 = 24\n",
            "4 x 7 = 28\n",
            "4 x 8 = 32\n",
            "4 x 9 = 36\n",
            "4 x 10 = 40\n"
          ]
        }
      ]
    },
    {
      "cell_type": "code",
      "source": [
        "#FOR\n",
        "ntabla = int(input(\"Tabla: \"))\n",
        "for i in range(1,11):\n",
        "  print(ntabla, \"x\", i, \"=\", ntabla*i)"
      ],
      "metadata": {
        "colab": {
          "base_uri": "https://localhost:8080/"
        },
        "id": "FUQMiaREeVYx",
        "outputId": "8c00c5c2-55cc-43c7-ad49-0d59c8dcf4d3"
      },
      "execution_count": null,
      "outputs": [
        {
          "output_type": "stream",
          "name": "stdout",
          "text": [
            "Tabla: 1\n",
            "1 x 1 = 1\n",
            "1 x 2 = 2\n",
            "1 x 3 = 3\n",
            "1 x 4 = 4\n",
            "1 x 5 = 5\n",
            "1 x 6 = 6\n",
            "1 x 7 = 7\n",
            "1 x 8 = 8\n",
            "1 x 9 = 9\n",
            "1 x 10 = 10\n"
          ]
        }
      ]
    },
    {
      "cell_type": "code",
      "source": [
        "#Hacer un programa en python que genera la tabla de multiplicar dada por el usuario, hasta que el usuario decida salir\n",
        "s = \"s\"\n",
        "while s==\"s\":\n",
        "  ntabla = int(input(\"Tabla: \"))\n",
        "  for i in range(1,11):\n",
        "    print(ntabla, \"x\", i, \"=\", ntabla*i)\n",
        "  s = input(\"Continuar s, cualquier otra tecla para salir \")\n"
      ],
      "metadata": {
        "colab": {
          "base_uri": "https://localhost:8080/"
        },
        "id": "McbuVgW5f-Dp",
        "outputId": "5b9362b4-c295-40f3-afb1-7fa49bbc6136"
      },
      "execution_count": null,
      "outputs": [
        {
          "name": "stdout",
          "output_type": "stream",
          "text": [
            "Tabla: 4\n",
            "4 x 1 = 4\n",
            "4 x 2 = 8\n",
            "4 x 3 = 12\n",
            "4 x 4 = 16\n",
            "4 x 5 = 20\n",
            "4 x 6 = 24\n",
            "4 x 7 = 28\n",
            "4 x 8 = 32\n",
            "4 x 9 = 36\n",
            "4 x 10 = 40\n",
            "Continuar s, cualquier otra tecla para salirj\n"
          ]
        }
      ]
    }
  ]
}